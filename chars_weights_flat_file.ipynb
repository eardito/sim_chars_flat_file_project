{
 "cells": [
  {
   "cell_type": "markdown",
   "metadata": {},
   "source": [
    "### Purpose - Take Weights and Chars Reports from Factset and convert into a Seismic Friendly flat file format."
   ]
  },
  {
   "cell_type": "code",
   "execution_count": 3,
   "metadata": {},
   "outputs": [],
   "source": [
    "# Import dependencies\r\n",
    "import numpy as np\r\n",
    "import pandas as pd\r\n",
    "import xlsxwriter"
   ]
  },
  {
   "cell_type": "markdown",
   "metadata": {},
   "source": [
    "### Step 1:  Wrangle and transform `Sector` data from FactSet"
   ]
  },
  {
   "cell_type": "code",
   "execution_count": 4,
   "metadata": {},
   "outputs": [
    {
     "ename": "NameError",
     "evalue": "name 'strategy_code' is not defined",
     "output_type": "error",
     "traceback": [
      "\u001b[1;31m---------------------------------------------------------------------------\u001b[0m",
      "\u001b[1;31mNameError\u001b[0m                                 Traceback (most recent call last)",
      "\u001b[1;32m<ipython-input-4-d3d5b1e7cd96>\u001b[0m in \u001b[0;36m<module>\u001b[1;34m\u001b[0m\n\u001b[0;32m     28\u001b[0m \u001b[1;33m\u001b[0m\u001b[0m\n\u001b[0;32m     29\u001b[0m \u001b[1;31m# Preview df and metadata\u001b[0m\u001b[1;33m\u001b[0m\u001b[1;33m\u001b[0m\u001b[1;33m\u001b[0m\u001b[0m\n\u001b[1;32m---> 30\u001b[1;33m print('Date: ', rpt_date, \" \", \"Date Type: \", type(rpt_date), ' Strategy Code: ', strategy_code, \\\n\u001b[0m\u001b[0;32m     31\u001b[0m     ' Currency: ', rpt_curr)\n\u001b[0;32m     32\u001b[0m \u001b[0mdf\u001b[0m\u001b[1;33m.\u001b[0m\u001b[0mhead\u001b[0m\u001b[1;33m(\u001b[0m\u001b[1;36m13\u001b[0m\u001b[1;33m)\u001b[0m\u001b[1;33m\u001b[0m\u001b[1;33m\u001b[0m\u001b[0m\n",
      "\u001b[1;31mNameError\u001b[0m: name 'strategy_code' is not defined"
     ]
    }
   ],
   "source": [
    "# Import sector weights tab and create df\r\n",
    "df = pd.read_excel('input_template.xlsx', sheet_name = 'Sector_Raw', skiprows=7, header= None, names=['Sector', 'SimPortWeight', 'IndexWeight'])\r\n",
    "\r\n",
    "# Drop blank rows\r\n",
    "df = df.dropna(axis=0)\r\n",
    "\r\n",
    "# Delete Total Row\r\n",
    "df = df[df['Sector'] != 'Total']\r\n",
    "\r\n",
    "# Divide Weights by 100\r\n",
    "df[['SimPortWeight', 'IndexWeight']] = df[['SimPortWeight', 'IndexWeight']].div(100)\r\n",
    "\r\n",
    "# Import same file to wo skipping rows to get some add'l necessary meta_data\r\n",
    "df_metadata = pd.read_excel('input_template.xlsx', sheet_name = 'Sector_Raw')\r\n",
    "\r\n",
    "# Get report date\r\n",
    "rpt_date = df_metadata.iloc[4,0]\r\n",
    "\r\n",
    "# Get report currency\r\n",
    "rpt_curr = df_metadata.iloc[0,0]\r\n",
    "\r\n",
    "# Get strategy code\r\n",
    "rpt_code = df_metadata.columns[0].split()[0].split('_')[0]\r\n",
    "\r\n",
    "# Insert add'l cols needed for Seismic\r\n",
    "df.insert(0, 'AsOfDate', rpt_date)\r\n",
    "df.insert(1, 'StrategyCode', rpt_code)\r\n",
    "\r\n",
    "# Preview df and metadata\r\n",
    "print('Date: ', rpt_date, \" \", \"Date Type: \", type(rpt_date), ' Strategy Code: ', rpt_code, \\\r\n",
    "    ' Currency: ', rpt_curr)\r\n",
    "df.head(13)\r\n",
    "\r\n",
    "# Use 'filepath' below if want to make sharable with IB and MM, can use PA directory for input and output.\r\n",
    "#filepath 'M:/Characteristics/Flat File/Template/Flat_File_Template.xlsx'"
   ]
  },
  {
   "cell_type": "markdown",
   "metadata": {},
   "source": [
    "### Step 2:  Wrangle and transform `Market Cap` data from FactSet"
   ]
  },
  {
   "cell_type": "code",
   "execution_count": null,
   "metadata": {},
   "outputs": [
    {
     "data": {
      "text/html": "<div>\n<style scoped>\n    .dataframe tbody tr th:only-of-type {\n        vertical-align: middle;\n    }\n\n    .dataframe tbody tr th {\n        vertical-align: top;\n    }\n\n    .dataframe thead th {\n        text-align: right;\n    }\n</style>\n<table border=\"1\" class=\"dataframe\">\n  <thead>\n    <tr style=\"text-align: right;\">\n      <th></th>\n      <th>AsOfDate</th>\n      <th>StrategyCode</th>\n      <th>Currency</th>\n      <th>Range</th>\n      <th>Label</th>\n      <th>SimWeight</th>\n      <th>IndexWeight</th>\n    </tr>\n  </thead>\n  <tbody>\n    <tr>\n      <th>0</th>\n      <td>9/30/2019</td>\n      <td>MSAUM</td>\n      <td>AUD</td>\n      <td>1</td>\n      <td>Over 100B</td>\n      <td>0.271757</td>\n      <td>0.343094</td>\n    </tr>\n    <tr>\n      <th>1</th>\n      <td>9/30/2019</td>\n      <td>MSAUM</td>\n      <td>AUD</td>\n      <td>2</td>\n      <td>25B - 100B</td>\n      <td>0.369919</td>\n      <td>0.309234</td>\n    </tr>\n    <tr>\n      <th>2</th>\n      <td>9/30/2019</td>\n      <td>MSAUM</td>\n      <td>AUD</td>\n      <td>3</td>\n      <td>15B - 25B</td>\n      <td>0.102557</td>\n      <td>0.114275</td>\n    </tr>\n    <tr>\n      <th>3</th>\n      <td>9/30/2019</td>\n      <td>MSAUM</td>\n      <td>AUD</td>\n      <td>4</td>\n      <td>2B - 15B</td>\n      <td>0.255768</td>\n      <td>0.233397</td>\n    </tr>\n    <tr>\n      <th>4</th>\n      <td>9/30/2019</td>\n      <td>MSAUM</td>\n      <td>AUD</td>\n      <td>5</td>\n      <td>Under 2B</td>\n      <td>0.000000</td>\n      <td>0.000048</td>\n    </tr>\n  </tbody>\n</table>\n</div>",
      "text/plain": "    AsOfDate StrategyCode Currency  Range       Label  SimWeight  IndexWeight\n0  9/30/2019        MSAUM      AUD      1   Over 100B   0.271757     0.343094\n1  9/30/2019        MSAUM      AUD      2  25B - 100B   0.369919     0.309234\n2  9/30/2019        MSAUM      AUD      3   15B - 25B   0.102557     0.114275\n3  9/30/2019        MSAUM      AUD      4    2B - 15B   0.255768     0.233397\n4  9/30/2019        MSAUM      AUD      5    Under 2B   0.000000     0.000048"
     },
     "execution_count": 68,
     "metadata": {},
     "output_type": "execute_result"
    }
   ],
   "source": [
    "# Import mcap weights tab and create df\r\n",
    "mcap = pd.read_excel('input_template.xlsx', sheet_name = 'Mcap_Raw', header = None, skiprows = 7, names= ('Label', 'SimWeight', 'IndexWeight'))\r\n",
    "\r\n",
    "# Insert add'l cols needed for Seismic\r\n",
    "mcap.insert(0, 'AsOfDate', rpt_date)\r\n",
    "mcap.insert(1, 'StrategyCode', rpt_code)\r\n",
    "mcap.insert(2, 'Currency', rpt_curr)\r\n",
    "\r\n",
    "# Drop blank rows\r\n",
    "mcap = mcap.dropna(axis=0)\r\n",
    "\r\n",
    "# Delete Total Row\r\n",
    "mcap = mcap[mcap['Label'] != 'Total']\r\n",
    "\r\n",
    "# Insert a 'Range' col that maps ints for each bucket\r\n",
    "#Length of mcap = 6, np.arrange gives an array starting at 0 and up to but not including length value.\r\n",
    "range  = np.arange(len(mcap))\r\n",
    "range += 1\r\n",
    "mcap.insert(3, 'Range', range)\r\n",
    "\r\n",
    "# Divide weights by 100\r\n",
    "mcap[['SimWeight', 'IndexWeight']] = mcap[['SimWeight', 'IndexWeight']].div(100)\r\n",
    "mcap\r\n",
    "\r\n",
    "# Use 'filepath' below if want to make sharable with IB and MM, can use PA directory for input and output.\r\n",
    "#filepath 'M:/Characteristics/Flat File/Template/Flat_File_Template.xlsx'"
   ]
  },
  {
   "cell_type": "code",
   "execution_count": null,
   "metadata": {},
   "outputs": [],
   "source": [
    "# Import library and create currency symbols to be used in mkt cap output\r\n",
    "import unicodedata\r\n",
    "\r\n",
    "EUR_Code = '{}'.format(unicodedata.lookup(\"EURO SIGN\"))\r\n",
    "GBP_Code = '{}'.format(unicodedata.lookup('POUND SIGN'))\r\n",
    "NZD_Code = 'NZD'\r\n",
    "DKK_Code = 'DKK'\r\n",
    "USD_Code = '$'\r\n",
    "AUD_Code = 'A$'"
   ]
  },
  {
   "cell_type": "code",
   "execution_count": null,
   "metadata": {},
   "outputs": [
    {
     "data": {
      "text/plain": "'A$'"
     },
     "execution_count": 70,
     "metadata": {},
     "output_type": "execute_result"
    }
   ],
   "source": [
    "# Create and run function to identify appropriate curr symbol for output\r\n",
    "\r\n",
    "def currency_symbol(currency):\r\n",
    "    if currency == 'USD':\r\n",
    "        return USD_Code\r\n",
    "    elif currency == 'GBP':\r\n",
    "        return GBP_Code\r\n",
    "    elif currency == 'DKK':\r\n",
    "        return DKK_Code\r\n",
    "    elif currency == 'NZD':\r\n",
    "        return NZD_Code\r\n",
    "    elif currency == 'AUD':\r\n",
    "        return AUD_Code\r\n",
    "    elif currency == 'EUR':\r\n",
    "        return EUR_Code    \r\n",
    "\r\n",
    "currency_sign = currency_symbol(rpt_curr)\r\n",
    "currency_sign"
   ]
  },
  {
   "cell_type": "code",
   "execution_count": null,
   "metadata": {},
   "outputs": [],
   "source": [
    "# Input currency sign into mkt cap bucket categories\r\n",
    "\r\n",
    "Mega_Cap = '> {0}100B'.format(currency_sign)\r\n",
    "Big_Large_Cap = '{0}25B - {0}100B'.format(currency_sign)\r\n",
    "Large_Cap = '{0}15B - {0}25B'.format(currency_sign)\r\n",
    "Mid_Cap = '{0}2B - {0}15B'.format(currency_sign)\r\n",
    "Small_Cap = '< {0}2B'.format(currency_sign)"
   ]
  },
  {
   "cell_type": "code",
   "execution_count": null,
   "metadata": {},
   "outputs": [],
   "source": [
    "# Replace each original mkt cap bucket to equivalent name w/ the curr sign\r\n",
    "\r\n",
    "mcap['Label'] = mcap['Label'].replace('Over 100B', Mega_Cap)\r\n",
    "mcap['Label'] = mcap['Label'].replace('25B - 100B', Big_Large_Cap)\r\n",
    "mcap['Label'] = mcap['Label'].replace('15B - 25B', Large_Cap)\r\n",
    "mcap['Label'] = mcap['Label'].replace('2B - 15B', Mid_Cap)\r\n",
    "mcap['Label'] = mcap['Label'].replace('Under 2B', Small_Cap)"
   ]
  },
  {
   "cell_type": "code",
   "execution_count": null,
   "metadata": {},
   "outputs": [
    {
     "data": {
      "text/html": "<div>\n<style scoped>\n    .dataframe tbody tr th:only-of-type {\n        vertical-align: middle;\n    }\n\n    .dataframe tbody tr th {\n        vertical-align: top;\n    }\n\n    .dataframe thead th {\n        text-align: right;\n    }\n</style>\n<table border=\"1\" class=\"dataframe\">\n  <thead>\n    <tr style=\"text-align: right;\">\n      <th></th>\n      <th>AsOfDate</th>\n      <th>StrategyCode</th>\n      <th>Currency</th>\n      <th>Range</th>\n      <th>Label</th>\n      <th>SimWeight</th>\n      <th>IndexWeight</th>\n    </tr>\n  </thead>\n  <tbody>\n    <tr>\n      <th>0</th>\n      <td>9/30/2019</td>\n      <td>MSAUM</td>\n      <td>AUD</td>\n      <td>1</td>\n      <td>&gt; A$100B</td>\n      <td>0.271757</td>\n      <td>0.343094</td>\n    </tr>\n    <tr>\n      <th>1</th>\n      <td>9/30/2019</td>\n      <td>MSAUM</td>\n      <td>AUD</td>\n      <td>2</td>\n      <td>A$25B - A$100B</td>\n      <td>0.369919</td>\n      <td>0.309234</td>\n    </tr>\n    <tr>\n      <th>2</th>\n      <td>9/30/2019</td>\n      <td>MSAUM</td>\n      <td>AUD</td>\n      <td>3</td>\n      <td>A$15B - A$25B</td>\n      <td>0.102557</td>\n      <td>0.114275</td>\n    </tr>\n    <tr>\n      <th>3</th>\n      <td>9/30/2019</td>\n      <td>MSAUM</td>\n      <td>AUD</td>\n      <td>4</td>\n      <td>A$2B - A$15B</td>\n      <td>0.255768</td>\n      <td>0.233397</td>\n    </tr>\n    <tr>\n      <th>4</th>\n      <td>9/30/2019</td>\n      <td>MSAUM</td>\n      <td>AUD</td>\n      <td>5</td>\n      <td>&lt; A$2B</td>\n      <td>0.000000</td>\n      <td>0.000048</td>\n    </tr>\n  </tbody>\n</table>\n</div>",
      "text/plain": "    AsOfDate StrategyCode Currency  Range           Label  SimWeight  \\\n0  9/30/2019        MSAUM      AUD      1        > A$100B   0.271757   \n1  9/30/2019        MSAUM      AUD      2  A$25B - A$100B   0.369919   \n2  9/30/2019        MSAUM      AUD      3   A$15B - A$25B   0.102557   \n3  9/30/2019        MSAUM      AUD      4    A$2B - A$15B   0.255768   \n4  9/30/2019        MSAUM      AUD      5          < A$2B   0.000000   \n\n   IndexWeight  \n0     0.343094  \n1     0.309234  \n2     0.114275  \n3     0.233397  \n4     0.000048  "
     },
     "execution_count": 73,
     "metadata": {},
     "output_type": "execute_result"
    }
   ],
   "source": [
    "# Preview final mkt cap df\r\n",
    "mcap"
   ]
  },
  {
   "cell_type": "markdown",
   "metadata": {},
   "source": [
    "### Step 3:  Wrangle and transform `Characteristics` data from FactSet "
   ]
  },
  {
   "cell_type": "code",
   "execution_count": null,
   "metadata": {},
   "outputs": [
    {
     "data": {
      "text/html": "<div>\n<style scoped>\n    .dataframe tbody tr th:only-of-type {\n        vertical-align: middle;\n    }\n\n    .dataframe tbody tr th {\n        vertical-align: top;\n    }\n\n    .dataframe thead th {\n        text-align: right;\n    }\n</style>\n<table border=\"1\" class=\"dataframe\">\n  <thead>\n    <tr style=\"text-align: right;\">\n      <th></th>\n      <th>AsOfDate</th>\n      <th>StrategyCode</th>\n      <th>Currency</th>\n      <th>Char</th>\n      <th>PortValue</th>\n      <th>IndValue</th>\n    </tr>\n  </thead>\n  <tbody>\n    <tr>\n      <th>0</th>\n      <td>9/30/2019</td>\n      <td>MSAUM</td>\n      <td>AUD</td>\n      <td># of Securities</td>\n      <td>29.000000</td>\n      <td>68.000000</td>\n    </tr>\n    <tr>\n      <th>1</th>\n      <td>9/30/2019</td>\n      <td>MSAUM</td>\n      <td>AUD</td>\n      <td>P/E (1Yr Trailing)</td>\n      <td>21.897423</td>\n      <td>22.602774</td>\n    </tr>\n    <tr>\n      <th>2</th>\n      <td>9/30/2019</td>\n      <td>MSAUM</td>\n      <td>AUD</td>\n      <td>Dividend Yield</td>\n      <td>4.495234</td>\n      <td>4.527722</td>\n    </tr>\n    <tr>\n      <th>3</th>\n      <td>9/30/2019</td>\n      <td>MSAUM</td>\n      <td>AUD</td>\n      <td>EPS Growth (5Yr Trailing)</td>\n      <td>10.189810</td>\n      <td>6.607627</td>\n    </tr>\n    <tr>\n      <th>4</th>\n      <td>9/30/2019</td>\n      <td>MSAUM</td>\n      <td>AUD</td>\n      <td>P/B</td>\n      <td>2.525590</td>\n      <td>2.505007</td>\n    </tr>\n  </tbody>\n</table>\n</div>",
      "text/plain": "    AsOfDate StrategyCode Currency                       Char  PortValue  \\\n0  9/30/2019        MSAUM      AUD            # of Securities  29.000000   \n1  9/30/2019        MSAUM      AUD         P/E (1Yr Trailing)  21.897423   \n2  9/30/2019        MSAUM      AUD             Dividend Yield   4.495234   \n3  9/30/2019        MSAUM      AUD  EPS Growth (5Yr Trailing)  10.189810   \n4  9/30/2019        MSAUM      AUD                        P/B   2.525590   \n\n    IndValue  \n0  68.000000  \n1  22.602774  \n2   4.527722  \n3   6.607627  \n4   2.505007  "
     },
     "execution_count": 74,
     "metadata": {},
     "output_type": "execute_result"
    }
   ],
   "source": [
    "# Import chars tab and create df\r\n",
    "chars = pd.read_excel('input_template.xlsx', sheet_name = 'Chars_Raw', skiprows= 8, skipfooter =2, header = None, names=['Char', 'PortValue', 'IndValue'])\r\n",
    "\r\n",
    "# Insert add'l columns for Seismic\r\n",
    "chars.insert(0, 'AsOfDate', rpt_date)\r\n",
    "chars.insert(1, 'StrategyCode', rpt_code)\r\n",
    "chars.insert(2, 'Currency', rpt_curr)\r\n",
    "\r\n",
    "# Preview\r\n",
    "chars.head()\r\n",
    "\r\n",
    "# Use 'filepath' below if want to make sharable with IB and MM, can use PA directory for input and output.\r\n",
    "#filepath 'M:/Characteristics/Flat File/Template/Flat_File_Template.xlsx'"
   ]
  },
  {
   "cell_type": "code",
   "execution_count": null,
   "metadata": {},
   "outputs": [
    {
     "data": {
      "text/html": "<div>\n<style scoped>\n    .dataframe tbody tr th:only-of-type {\n        vertical-align: middle;\n    }\n\n    .dataframe tbody tr th {\n        vertical-align: top;\n    }\n\n    .dataframe thead th {\n        text-align: right;\n    }\n</style>\n<table border=\"1\" class=\"dataframe\">\n  <thead>\n    <tr style=\"text-align: right;\">\n      <th></th>\n      <th>AsOfDate</th>\n      <th>StrategyCode</th>\n      <th>Currency</th>\n      <th>Char</th>\n      <th>PortValue</th>\n      <th>IndValue</th>\n    </tr>\n  </thead>\n  <tbody>\n    <tr>\n      <th>0</th>\n      <td>9/30/2019</td>\n      <td>MSAUM</td>\n      <td>AUD</td>\n      <td>Number of Securities</td>\n      <td>29.000000</td>\n      <td>68.000000</td>\n    </tr>\n    <tr>\n      <th>1</th>\n      <td>9/30/2019</td>\n      <td>MSAUM</td>\n      <td>AUD</td>\n      <td>Price/Earnings Ratio (LTM)</td>\n      <td>21.897423</td>\n      <td>22.602774</td>\n    </tr>\n    <tr>\n      <th>2</th>\n      <td>9/30/2019</td>\n      <td>MSAUM</td>\n      <td>AUD</td>\n      <td>Dividend Yield (Current)</td>\n      <td>4.495234</td>\n      <td>4.527722</td>\n    </tr>\n    <tr>\n      <th>3</th>\n      <td>9/30/2019</td>\n      <td>MSAUM</td>\n      <td>AUD</td>\n      <td>EPS Growth (5 Yr. Historical)</td>\n      <td>10.189810</td>\n      <td>6.607627</td>\n    </tr>\n    <tr>\n      <th>4</th>\n      <td>9/30/2019</td>\n      <td>MSAUM</td>\n      <td>AUD</td>\n      <td>Price/Book Ratio</td>\n      <td>2.525590</td>\n      <td>2.505007</td>\n    </tr>\n    <tr>\n      <th>5</th>\n      <td>9/30/2019</td>\n      <td>MSAUM</td>\n      <td>AUD</td>\n      <td>Weighted Average Market Cap</td>\n      <td>58918.464996</td>\n      <td>68383.029210</td>\n    </tr>\n    <tr>\n      <th>6</th>\n      <td>9/30/2019</td>\n      <td>MSAUM</td>\n      <td>AUD</td>\n      <td>Weighted Median Market Cap</td>\n      <td>27081.597656</td>\n      <td>45126.832031</td>\n    </tr>\n  </tbody>\n</table>\n</div>",
      "text/plain": "    AsOfDate StrategyCode Currency                           Char  \\\n0  9/30/2019        MSAUM      AUD           Number of Securities   \n1  9/30/2019        MSAUM      AUD     Price/Earnings Ratio (LTM)   \n2  9/30/2019        MSAUM      AUD       Dividend Yield (Current)   \n3  9/30/2019        MSAUM      AUD  EPS Growth (5 Yr. Historical)   \n4  9/30/2019        MSAUM      AUD               Price/Book Ratio   \n5  9/30/2019        MSAUM      AUD    Weighted Average Market Cap   \n6  9/30/2019        MSAUM      AUD     Weighted Median Market Cap   \n\n      PortValue      IndValue  \n0     29.000000     68.000000  \n1     21.897423     22.602774  \n2      4.495234      4.527722  \n3     10.189810      6.607627  \n4      2.525590      2.505007  \n5  58918.464996  68383.029210  \n6  27081.597656  45126.832031  "
     },
     "execution_count": 75,
     "metadata": {},
     "output_type": "execute_result"
    }
   ],
   "source": [
    "# Rename chars derived from FDS to Seismic desired names\r\n",
    "\r\n",
    "chars['Char'] = chars['Char'].replace('# of Securities', 'Number of Securities')\r\n",
    "chars['Char'] = chars['Char'].replace('P/E (1Yr Trailing)', 'Price/Earnings Ratio (LTM)')\r\n",
    "chars['Char'] = chars['Char'].replace('Dividend Yield', 'Dividend Yield (Current)')\r\n",
    "chars['Char'] = chars['Char'].replace('EPS Growth (5Yr Trailing)', 'EPS Growth (5 Yr. Historical)')\r\n",
    "chars['Char'] = chars['Char'].replace('P/B', 'Price/Book Ratio')\r\n",
    "chars['Char'] = chars['Char'].replace('Market Cap - Weighted Median', 'Weighted Median Market Cap')\r\n",
    "chars['Char'] = chars['Char'].replace('Market Cap - Weighted Average', 'Weighted Average Market Cap')\r\n",
    "chars"
   ]
  },
  {
   "cell_type": "code",
   "execution_count": null,
   "metadata": {},
   "outputs": [
    {
     "data": {
      "text/html": "<div>\n<style scoped>\n    .dataframe tbody tr th:only-of-type {\n        vertical-align: middle;\n    }\n\n    .dataframe tbody tr th {\n        vertical-align: top;\n    }\n\n    .dataframe thead th {\n        text-align: right;\n    }\n</style>\n<table border=\"1\" class=\"dataframe\">\n  <thead>\n    <tr style=\"text-align: right;\">\n      <th></th>\n      <th>AsOfDate</th>\n      <th>StrategyCode</th>\n      <th>Currency</th>\n      <th>Char</th>\n      <th>PortValue</th>\n      <th>IndValue</th>\n    </tr>\n  </thead>\n  <tbody>\n    <tr>\n      <th>0</th>\n      <td>9/30/2019</td>\n      <td>MSAUM</td>\n      <td>AUD</td>\n      <td>Number of Securities</td>\n      <td>29.0</td>\n      <td>68.0</td>\n    </tr>\n    <tr>\n      <th>1</th>\n      <td>9/30/2019</td>\n      <td>MSAUM</td>\n      <td>AUD</td>\n      <td>Price/Earnings Ratio (LTM)</td>\n      <td>21.90</td>\n      <td>22.60</td>\n    </tr>\n    <tr>\n      <th>2</th>\n      <td>9/30/2019</td>\n      <td>MSAUM</td>\n      <td>AUD</td>\n      <td>Dividend Yield (Current)</td>\n      <td>4.50%</td>\n      <td>4.53%</td>\n    </tr>\n    <tr>\n      <th>3</th>\n      <td>9/30/2019</td>\n      <td>MSAUM</td>\n      <td>AUD</td>\n      <td>EPS Growth (5 Yr. Historical)</td>\n      <td>10.19%</td>\n      <td>6.61%</td>\n    </tr>\n    <tr>\n      <th>4</th>\n      <td>9/30/2019</td>\n      <td>MSAUM</td>\n      <td>AUD</td>\n      <td>Price/Book Ratio</td>\n      <td>2.53</td>\n      <td>2.51</td>\n    </tr>\n    <tr>\n      <th>5</th>\n      <td>9/30/2019</td>\n      <td>MSAUM</td>\n      <td>AUD</td>\n      <td>Weighted Average Market Cap</td>\n      <td>A$58.9 B</td>\n      <td>A$68.4 B</td>\n    </tr>\n    <tr>\n      <th>6</th>\n      <td>9/30/2019</td>\n      <td>MSAUM</td>\n      <td>AUD</td>\n      <td>Weighted Median Market Cap</td>\n      <td>A$27.1 B</td>\n      <td>A$45.1 B</td>\n    </tr>\n  </tbody>\n</table>\n</div>",
      "text/plain": "    AsOfDate StrategyCode Currency                           Char PortValue  \\\n0  9/30/2019        MSAUM      AUD           Number of Securities      29.0   \n1  9/30/2019        MSAUM      AUD     Price/Earnings Ratio (LTM)     21.90   \n2  9/30/2019        MSAUM      AUD       Dividend Yield (Current)     4.50%   \n3  9/30/2019        MSAUM      AUD  EPS Growth (5 Yr. Historical)    10.19%   \n4  9/30/2019        MSAUM      AUD               Price/Book Ratio      2.53   \n5  9/30/2019        MSAUM      AUD    Weighted Average Market Cap  A$58.9 B   \n6  9/30/2019        MSAUM      AUD     Weighted Median Market Cap  A$27.1 B   \n\n   IndValue  \n0      68.0  \n1     22.60  \n2     4.53%  \n3     6.61%  \n4      2.51  \n5  A$68.4 B  \n6  A$45.1 B  "
     },
     "execution_count": 76,
     "metadata": {},
     "output_type": "execute_result"
    }
   ],
   "source": [
    "# Transform numerical output to appropriate type\r\n",
    "\r\n",
    "item_1 = chars.loc[5,'PortValue']\r\n",
    "item_2 = chars.loc[6,'PortValue']\r\n",
    "item_3 = chars.loc[5, 'IndValue']\r\n",
    "item_4 = chars.loc[6, 'IndValue']\r\n",
    "item_5 = chars.loc[2,'PortValue']\r\n",
    "item_6 = chars.loc[2, 'IndValue']\r\n",
    "item_7 = chars.loc[3, 'PortValue']\r\n",
    "item_8 = chars.loc[3, 'IndValue']\r\n",
    "item_9 = chars.loc[1, 'PortValue']\r\n",
    "item_10 = chars.loc[1, 'IndValue']\r\n",
    "item_11 = chars.loc[4, 'PortValue']\r\n",
    "item_12 = chars.loc[4, 'IndValue']\r\n",
    "\r\n",
    "def MCap(item):\r\n",
    "    item /= 1000\r\n",
    "    item = item.round(1)\r\n",
    "    item = str(item)\r\n",
    "    item = currency_sign + item + ' B'\r\n",
    "    return item\r\n",
    "\r\n",
    "def PercString(item):\r\n",
    "    item = \"{:0.2f}%\".format(item)\r\n",
    "    return item\r\n",
    "\r\n",
    "def RoundString(item):\r\n",
    "    item = \"{:0.2f}\".format(item)\r\n",
    "    return item\r\n",
    "\r\n",
    "item_1 = MCap(item_1)\r\n",
    "item_2 = MCap(item_2)\r\n",
    "item_3 = MCap(item_3)\r\n",
    "item_4 = MCap(item_4)\r\n",
    "item_5 = PercString(item_5)\r\n",
    "item_6 = PercString(item_6)\r\n",
    "item_7 = PercString(item_7)\r\n",
    "item_8 = PercString(item_8)\r\n",
    "item_9 = RoundString(item_9)\r\n",
    "item_10 = RoundString(item_10)\r\n",
    "item_11 = RoundString(item_11)\r\n",
    "item_12 = RoundString(item_12)\r\n",
    "\r\n",
    "\r\n",
    "chars.loc[5,'PortValue'] = item_1\r\n",
    "chars.loc[6,'PortValue'] = item_2 \r\n",
    "chars.loc[5,'IndValue'] = item_3 \r\n",
    "chars.loc[6, 'IndValue'] = item_4\r\n",
    "chars.loc[2,'PortValue'] = item_5\r\n",
    "chars.loc[2, 'IndValue'] = item_6\r\n",
    "chars.loc[3, 'PortValue'] = item_7\r\n",
    "chars.loc[3, 'IndValue'] = item_8\r\n",
    "chars.loc[1, 'PortValue'] = item_9\r\n",
    "chars.loc[1, 'IndValue'] = item_10\r\n",
    "chars.loc[4, 'PortValue'] = item_11\r\n",
    "chars.loc[4, 'IndValue'] = item_12\r\n",
    "\r\n",
    "chars"
   ]
  },
  {
   "cell_type": "markdown",
   "metadata": {},
   "source": [
    "### Step 4:  Wrangle and transform `Top Bottom 10` data from FactSet"
   ]
  },
  {
   "cell_type": "code",
   "execution_count": null,
   "metadata": {},
   "outputs": [
    {
     "data": {
      "text/html": "<div>\n<style scoped>\n    .dataframe tbody tr th:only-of-type {\n        vertical-align: middle;\n    }\n\n    .dataframe tbody tr th {\n        vertical-align: top;\n    }\n\n    .dataframe thead th {\n        text-align: right;\n    }\n</style>\n<table border=\"1\" class=\"dataframe\">\n  <thead>\n    <tr style=\"text-align: right;\">\n      <th></th>\n      <th>AsOfDate</th>\n      <th>StrategyCode</th>\n      <th>Holding</th>\n      <th>Weight</th>\n      <th>WeightSum</th>\n    </tr>\n  </thead>\n  <tbody>\n    <tr>\n      <th>0</th>\n      <td>9/30/2019</td>\n      <td>MSAUM</td>\n      <td>BHP Group Ltd</td>\n      <td>0.071344</td>\n      <td>0.564238</td>\n    </tr>\n    <tr>\n      <th>1</th>\n      <td>9/30/2019</td>\n      <td>MSAUM</td>\n      <td>Woolworths Group Ltd</td>\n      <td>0.066595</td>\n      <td>0.564238</td>\n    </tr>\n    <tr>\n      <th>2</th>\n      <td>9/30/2019</td>\n      <td>MSAUM</td>\n      <td>Commonwealth Bank of Australia</td>\n      <td>0.066324</td>\n      <td>0.564238</td>\n    </tr>\n    <tr>\n      <th>3</th>\n      <td>9/30/2019</td>\n      <td>MSAUM</td>\n      <td>Transurban Group Ltd.</td>\n      <td>0.063470</td>\n      <td>0.564238</td>\n    </tr>\n    <tr>\n      <th>4</th>\n      <td>9/30/2019</td>\n      <td>MSAUM</td>\n      <td>Rio Tinto Limited</td>\n      <td>0.054846</td>\n      <td>0.564238</td>\n    </tr>\n    <tr>\n      <th>5</th>\n      <td>9/30/2019</td>\n      <td>MSAUM</td>\n      <td>Newcrest Mining Limited</td>\n      <td>0.052735</td>\n      <td>0.564238</td>\n    </tr>\n    <tr>\n      <th>6</th>\n      <td>9/30/2019</td>\n      <td>MSAUM</td>\n      <td>Goodman Group</td>\n      <td>0.052517</td>\n      <td>0.564238</td>\n    </tr>\n    <tr>\n      <th>7</th>\n      <td>9/30/2019</td>\n      <td>MSAUM</td>\n      <td>Brambles Limited</td>\n      <td>0.048688</td>\n      <td>0.564238</td>\n    </tr>\n    <tr>\n      <th>8</th>\n      <td>9/30/2019</td>\n      <td>MSAUM</td>\n      <td>Telstra Corporation Limited</td>\n      <td>0.043924</td>\n      <td>0.564238</td>\n    </tr>\n    <tr>\n      <th>9</th>\n      <td>9/30/2019</td>\n      <td>MSAUM</td>\n      <td>Fortescue Metals Group Ltd</td>\n      <td>0.043795</td>\n      <td>0.564238</td>\n    </tr>\n  </tbody>\n</table>\n</div>",
      "text/plain": "    AsOfDate StrategyCode                         Holding    Weight  WeightSum\n0  9/30/2019        MSAUM                   BHP Group Ltd  0.071344   0.564238\n1  9/30/2019        MSAUM            Woolworths Group Ltd  0.066595   0.564238\n2  9/30/2019        MSAUM  Commonwealth Bank of Australia  0.066324   0.564238\n3  9/30/2019        MSAUM           Transurban Group Ltd.  0.063470   0.564238\n4  9/30/2019        MSAUM               Rio Tinto Limited  0.054846   0.564238\n5  9/30/2019        MSAUM         Newcrest Mining Limited  0.052735   0.564238\n6  9/30/2019        MSAUM                   Goodman Group  0.052517   0.564238\n7  9/30/2019        MSAUM                Brambles Limited  0.048688   0.564238\n8  9/30/2019        MSAUM     Telstra Corporation Limited  0.043924   0.564238\n9  9/30/2019        MSAUM      Fortescue Metals Group Ltd  0.043795   0.564238"
     },
     "execution_count": 77,
     "metadata": {},
     "output_type": "execute_result"
    }
   ],
   "source": [
    "# Import Top 10 Portfolio Holdings by Weight tab and create df\r\n",
    "\r\n",
    "tb = pd.read_excel('input_template.xlsx', sheet_name = 'TB_Raw', header = None, skiprows = 8, skipfooter = 1, names=['Holding', 'Weight'])\r\n",
    "\r\n",
    "# Drop blank rows\r\n",
    "tb = tb.dropna(axis=0)\r\n",
    "\r\n",
    "# Delete Total Row\r\n",
    "tb = tb[tb['Holding'] != 'Total']\r\n",
    "\r\n",
    "# Sum up total of the top 10 holdings weights\r\n",
    "ten_wgt_sum = tb['Weight'].sum()\r\n",
    "\r\n",
    "# Insert add'l columns need for Seismic\r\n",
    "tb.insert(0, 'AsOfDate', rpt_date)\r\n",
    "tb.insert(1, 'StrategyCode', rpt_code)\r\n",
    "tb.insert(4, 'WeightSum', ten_wgt_sum)\r\n",
    "\r\n",
    "# Divide Weights by 100\r\n",
    "tb[['Weight','WeightSum']] = tb[['Weight', 'WeightSum']].div(100)\r\n",
    "\r\n",
    "tb\r\n",
    "\r\n",
    "# Use 'filepath' below if want to make sharable with IB and MM, can use PA directory for input and output.\r\n",
    "#filepath 'M:/Characteristics/Flat File/Template/Flat_File_Template.xlsx'"
   ]
  },
  {
   "cell_type": "markdown",
   "metadata": {},
   "source": [
    "### Step 5:  Output to on single excel file"
   ]
  },
  {
   "cell_type": "code",
   "execution_count": null,
   "metadata": {},
   "outputs": [],
   "source": [
    "# Create a Pandas Excel writer using XlsxWriter as the engine.\r\n",
    "writer = pd.ExcelWriter('output_file.xlsx', engine = 'xlsxwriter')\r\n",
    "\r\n",
    "# Convert the dataframe to an XlsxWriter Excel object.\r\n",
    "df.to_excel(writer, sheet_name='Sector', index=False)\r\n",
    "mcap.to_excel(writer, sheet_name='MCap', index=False)\r\n",
    "chars.to_excel(writer, sheet_name='Chars', index = False)\r\n",
    "tb.to_excel(writer, sheet_name='TB', index=False)\r\n",
    "\r\n",
    "# Get the xlsxwriter objects from the dataframe writer object.\r\n",
    "workbook = writer.book\r\n",
    "worksheet_1 = writer.sheets['Sector']\r\n",
    "worksheet_2 = writer.sheets['MCap']\r\n",
    "worksheet_3 = writer.sheets['Chars']\r\n",
    "worksheet_4 = writer.sheets['TB']\r\n",
    "\r\n",
    "# Add some cell formats.\r\n",
    "format1 = workbook.add_format({'num_format': '0.00%'})\r\n",
    "format2 = workbook.add_format()\r\n",
    "\r\n",
    "worksheet_1.set_column('D:E', 18 , format1)\r\n",
    "worksheet_1.set_column('A:C', 24, format2)\r\n",
    "worksheet_2.set_column('F:G', 18 , format1)\r\n",
    "worksheet_2.set_column('A:E', 18, format2)\r\n",
    "worksheet_3.set_column('D:D', 30, format2)\r\n",
    "worksheet_3.set_column('A:C',18, format2)\r\n",
    "worksheet_3.set_column('E:F',18, format2)\r\n",
    "worksheet_4.set_column('A:C', 18, format2)\r\n",
    "worksheet_4.set_column('D:E', 18, format1)\r\n",
    "\r\n",
    "writer.save()\r\n",
    "\r\n",
    "# Use 'filepath' below if want to make sharable with IB and MM, can use PA directory for input and output.\r\n",
    "#filepath 'M:\\Characteristics\\Flat File\\Output\\Flat_File_Chars_Weights.xlsx'"
   ]
  }
 ],
 "metadata": {
  "kernelspec": {
   "display_name": "Python 3.7.9 64-bit ('ea': conda)",
   "name": "python379jvsc74a57bd0b7c3e329df1df1cf4204baf98911465b6b96b75699972bf00a2017ceb229a8d4"
  },
  "language_info": {
   "codemirror_mode": {
    "name": "ipython",
    "version": 3
   },
   "file_extension": ".py",
   "mimetype": "text/x-python",
   "name": "python",
   "nbconvert_exporter": "python",
   "pygments_lexer": "ipython3",
   "version": "3.7.9"
  },
  "orig_nbformat": 3
 },
 "nbformat": 4,
 "nbformat_minor": 2
}