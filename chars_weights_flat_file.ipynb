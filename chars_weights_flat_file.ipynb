{
 "cells": [
  {
   "cell_type": "markdown",
   "metadata": {},
   "source": [
    "### Purpose - Take Weights and Chars Reports from Factset and convert into a Seismic Friendly flat file format."
   ]
  },
  {
   "cell_type": "code",
   "execution_count": 17,
   "metadata": {},
   "outputs": [],
   "source": [
    "# Import dependencies\n",
    "import numpy as np\n",
    "import pandas as pd\n",
    "import xlsxwriter"
   ]
  },
  {
   "cell_type": "markdown",
   "metadata": {},
   "source": [
    "### Step 1:  Wrangle and transform `Sector` data from FactSet"
   ]
  },
  {
   "cell_type": "code",
   "execution_count": 38,
   "metadata": {},
   "outputs": [
    {
     "output_type": "stream",
     "name": "stdout",
     "text": [
      "Date:  3/31/2021   Date Type:  <class 'str'>  Strategy Code:  MSMUA  Currency:  USD\n"
     ]
    },
    {
     "output_type": "execute_result",
     "data": {
      "text/plain": [
       "     AsOfDate StrategyCode                  Sector  SimPortWeight  IndexWeight\n",
       "0   3/31/2021        MSMUA  Communication Services       0.036840     0.092436\n",
       "1   3/31/2021        MSMUA  Consumer Discretionary       0.095878     0.066099\n",
       "2   3/31/2021        MSMUA        Consumer Staples       0.156847     0.110359\n",
       "3   3/31/2021        MSMUA                  Energy       0.000000     0.002510\n",
       "4   3/31/2021        MSMUA              Financials       0.098769     0.089545\n",
       "5   3/31/2021        MSMUA             Health Care       0.147171     0.188164\n",
       "6   3/31/2021        MSMUA             Industrials       0.073050     0.077659\n",
       "7   3/31/2021        MSMUA  Information Technology       0.292843     0.235251\n",
       "8   3/31/2021        MSMUA               Materials       0.025790     0.028023\n",
       "9   3/31/2021        MSMUA             Real Estate       0.047792     0.034429\n",
       "10  3/31/2021        MSMUA               Utilities       0.025020     0.075524"
      ],
      "text/html": "<div>\n<style scoped>\n    .dataframe tbody tr th:only-of-type {\n        vertical-align: middle;\n    }\n\n    .dataframe tbody tr th {\n        vertical-align: top;\n    }\n\n    .dataframe thead th {\n        text-align: right;\n    }\n</style>\n<table border=\"1\" class=\"dataframe\">\n  <thead>\n    <tr style=\"text-align: right;\">\n      <th></th>\n      <th>AsOfDate</th>\n      <th>StrategyCode</th>\n      <th>Sector</th>\n      <th>SimPortWeight</th>\n      <th>IndexWeight</th>\n    </tr>\n  </thead>\n  <tbody>\n    <tr>\n      <th>0</th>\n      <td>3/31/2021</td>\n      <td>MSMUA</td>\n      <td>Communication Services</td>\n      <td>0.036840</td>\n      <td>0.092436</td>\n    </tr>\n    <tr>\n      <th>1</th>\n      <td>3/31/2021</td>\n      <td>MSMUA</td>\n      <td>Consumer Discretionary</td>\n      <td>0.095878</td>\n      <td>0.066099</td>\n    </tr>\n    <tr>\n      <th>2</th>\n      <td>3/31/2021</td>\n      <td>MSMUA</td>\n      <td>Consumer Staples</td>\n      <td>0.156847</td>\n      <td>0.110359</td>\n    </tr>\n    <tr>\n      <th>3</th>\n      <td>3/31/2021</td>\n      <td>MSMUA</td>\n      <td>Energy</td>\n      <td>0.000000</td>\n      <td>0.002510</td>\n    </tr>\n    <tr>\n      <th>4</th>\n      <td>3/31/2021</td>\n      <td>MSMUA</td>\n      <td>Financials</td>\n      <td>0.098769</td>\n      <td>0.089545</td>\n    </tr>\n    <tr>\n      <th>5</th>\n      <td>3/31/2021</td>\n      <td>MSMUA</td>\n      <td>Health Care</td>\n      <td>0.147171</td>\n      <td>0.188164</td>\n    </tr>\n    <tr>\n      <th>6</th>\n      <td>3/31/2021</td>\n      <td>MSMUA</td>\n      <td>Industrials</td>\n      <td>0.073050</td>\n      <td>0.077659</td>\n    </tr>\n    <tr>\n      <th>7</th>\n      <td>3/31/2021</td>\n      <td>MSMUA</td>\n      <td>Information Technology</td>\n      <td>0.292843</td>\n      <td>0.235251</td>\n    </tr>\n    <tr>\n      <th>8</th>\n      <td>3/31/2021</td>\n      <td>MSMUA</td>\n      <td>Materials</td>\n      <td>0.025790</td>\n      <td>0.028023</td>\n    </tr>\n    <tr>\n      <th>9</th>\n      <td>3/31/2021</td>\n      <td>MSMUA</td>\n      <td>Real Estate</td>\n      <td>0.047792</td>\n      <td>0.034429</td>\n    </tr>\n    <tr>\n      <th>10</th>\n      <td>3/31/2021</td>\n      <td>MSMUA</td>\n      <td>Utilities</td>\n      <td>0.025020</td>\n      <td>0.075524</td>\n    </tr>\n  </tbody>\n</table>\n</div>"
     },
     "metadata": {},
     "execution_count": 38
    }
   ],
   "source": [
    "# Import sector weights tab and create df\n",
    "df = pd.read_excel('input_template.xlsx', sheet_name = 'SECTOR WEIGHTS', skiprows=7, header= None, names=['Sector', 'SimPortWeight', 'IndexWeight'])\n",
    "\n",
    "# Drop blank rows\n",
    "df = df.dropna(axis=0)\n",
    "\n",
    "# Delete Total Row\n",
    "df = df[df['Sector'] != 'Total']\n",
    "\n",
    "# Divide Weights by 100\n",
    "df[['SimPortWeight', 'IndexWeight']] = df[['SimPortWeight', 'IndexWeight']].div(100)\n",
    "\n",
    "# Import same file to wo skipping rows to get some add'l necessary meta_data\n",
    "df_metadata = pd.read_excel('input_template.xlsx', sheet_name = 'SECTOR WEIGHTS')\n",
    "\n",
    "# Get report date\n",
    "rpt_date = df_metadata.iloc[4,0]\n",
    "\n",
    "# Get report currency\n",
    "rpt_curr = df_metadata.iloc[0,0]\n",
    "\n",
    "# Get strategy code (allow for suffix such as EVE if exists)\n",
    "code_raw = df_metadata.columns[0].split()[0]\n",
    "if len(code_raw.split('_')) == 3:\n",
    "    names = code_raw.split('_')[0:-1]\n",
    "    rpt_code = names[0] + \"_\" + names[1]\n",
    "else:\n",
    "    rpt_code = code_raw.split('_')[0]\n",
    "\n",
    "# Insert add'l cols needed for Seismic\n",
    "df.insert(0, 'AsOfDate', rpt_date)\n",
    "df.insert(1, 'StrategyCode', rpt_code)\n",
    "\n",
    "# Preview df and metadata\n",
    "print('Date: ', rpt_date, \" \", \"Date Type: \", type(rpt_date), ' Strategy Code: ', rpt_code, \\\n",
    "    ' Currency: ', rpt_curr)\n",
    "df.head(13)\n",
    "\n",
    "# Use 'filepath' below if want to make sharable with IB and MM, can use PA directory for input and output.\n",
    "#filepath 'M:/Characteristics/Flat File/Template/Flat_File_Template.xlsx'"
   ]
  },
  {
   "cell_type": "markdown",
   "metadata": {},
   "source": [
    "### Step 2:  Wrangle and transform `Market Cap` data from FactSet"
   ]
  },
  {
   "cell_type": "code",
   "execution_count": 43,
   "metadata": {},
   "outputs": [
    {
     "output_type": "execute_result",
     "data": {
      "text/plain": [
       "    AsOfDate StrategyCode Currency  Range       Label  SimWeight  IndexWeight\n",
       "0  3/31/2021        MSMUA      USD      1   Over 100B   0.387585     0.370894\n",
       "1  3/31/2021        MSMUA      USD      2  25B - 100B   0.387983     0.454373\n",
       "2  3/31/2021        MSMUA      USD      3   15B - 25B   0.163761     0.104664\n",
       "3  3/31/2021        MSMUA      USD      4    2B - 15B   0.060672     0.070069"
      ],
      "text/html": "<div>\n<style scoped>\n    .dataframe tbody tr th:only-of-type {\n        vertical-align: middle;\n    }\n\n    .dataframe tbody tr th {\n        vertical-align: top;\n    }\n\n    .dataframe thead th {\n        text-align: right;\n    }\n</style>\n<table border=\"1\" class=\"dataframe\">\n  <thead>\n    <tr style=\"text-align: right;\">\n      <th></th>\n      <th>AsOfDate</th>\n      <th>StrategyCode</th>\n      <th>Currency</th>\n      <th>Range</th>\n      <th>Label</th>\n      <th>SimWeight</th>\n      <th>IndexWeight</th>\n    </tr>\n  </thead>\n  <tbody>\n    <tr>\n      <th>0</th>\n      <td>3/31/2021</td>\n      <td>MSMUA</td>\n      <td>USD</td>\n      <td>1</td>\n      <td>Over 100B</td>\n      <td>0.387585</td>\n      <td>0.370894</td>\n    </tr>\n    <tr>\n      <th>1</th>\n      <td>3/31/2021</td>\n      <td>MSMUA</td>\n      <td>USD</td>\n      <td>2</td>\n      <td>25B - 100B</td>\n      <td>0.387983</td>\n      <td>0.454373</td>\n    </tr>\n    <tr>\n      <th>2</th>\n      <td>3/31/2021</td>\n      <td>MSMUA</td>\n      <td>USD</td>\n      <td>3</td>\n      <td>15B - 25B</td>\n      <td>0.163761</td>\n      <td>0.104664</td>\n    </tr>\n    <tr>\n      <th>3</th>\n      <td>3/31/2021</td>\n      <td>MSMUA</td>\n      <td>USD</td>\n      <td>4</td>\n      <td>2B - 15B</td>\n      <td>0.060672</td>\n      <td>0.070069</td>\n    </tr>\n  </tbody>\n</table>\n</div>"
     },
     "metadata": {},
     "execution_count": 43
    }
   ],
   "source": [
    "# Import mcap weights tab and create df\n",
    "mcap = pd.read_excel('input_template.xlsx', sheet_name = 'MARKET CAP WEIGHTS', header = None, skiprows = 7, names= ('Label', 'SimWeight', 'IndexWeight'))\n",
    "\n",
    "# Insert add'l cols needed for Seismic\n",
    "mcap.insert(0, 'AsOfDate', rpt_date)\n",
    "mcap.insert(1, 'StrategyCode', rpt_code)\n",
    "mcap.insert(2, 'Currency', rpt_curr)\n",
    "\n",
    "# Drop blank rows\n",
    "mcap = mcap.dropna(axis=0)\n",
    "\n",
    "# Delete Total Row\n",
    "mcap = mcap[mcap['Label'] != 'Total']\n",
    "\n",
    "# Insert a 'Range' col that maps ints for each bucket\n",
    "#Length of mcap = 6, np.arrange gives an array starting at 0 and up to but not including length value.\n",
    "range  = np.arange(len(mcap))\n",
    "range += 1\n",
    "mcap.insert(3, 'Range', range)\n",
    "\n",
    "# Divide weights by 100\n",
    "mcap[['SimWeight', 'IndexWeight']] = mcap[['SimWeight', 'IndexWeight']].div(100)\n",
    "mcap\n",
    "\n",
    "# Use 'filepath' below if want to make sharable with IB and MM, can use PA directory for input and output.\n",
    "#filepath 'M:/Characteristics/Flat File/Template/Flat_File_Template.xlsx'"
   ]
  },
  {
   "cell_type": "code",
   "execution_count": 44,
   "metadata": {},
   "outputs": [],
   "source": [
    "# Import library and create currency symbols to be used in mkt cap output\n",
    "import unicodedata\n",
    "\n",
    "EUR_Code = '{}'.format(unicodedata.lookup(\"EURO SIGN\"))\n",
    "GBP_Code = '{}'.format(unicodedata.lookup('POUND SIGN'))\n",
    "NZD_Code = 'NZD'\n",
    "DKK_Code = 'DKK'\n",
    "USD_Code = '$'\n",
    "AUD_Code = 'A$'"
   ]
  },
  {
   "cell_type": "code",
   "execution_count": 45,
   "metadata": {},
   "outputs": [
    {
     "output_type": "execute_result",
     "data": {
      "text/plain": [
       "'$'"
      ]
     },
     "metadata": {},
     "execution_count": 45
    }
   ],
   "source": [
    "# Create and run function to identify appropriate curr symbol for output\n",
    "\n",
    "def currency_symbol(currency):\n",
    "    if currency == 'USD':\n",
    "        return USD_Code\n",
    "    elif currency == 'GBP':\n",
    "        return GBP_Code\n",
    "    elif currency == 'DKK':\n",
    "        return DKK_Code\n",
    "    elif currency == 'NZD':\n",
    "        return NZD_Code\n",
    "    elif currency == 'AUD':\n",
    "        return AUD_Code\n",
    "    elif currency == 'EUR':\n",
    "        return EUR_Code    \n",
    "\n",
    "currency_sign = currency_symbol(rpt_curr)\n",
    "currency_sign"
   ]
  },
  {
   "cell_type": "code",
   "execution_count": 46,
   "metadata": {},
   "outputs": [],
   "source": [
    "# Input currency sign into mkt cap bucket categories\n",
    "\n",
    "Mega_Cap = '> {0}100B'.format(currency_sign)\n",
    "Big_Large_Cap = '{0}25B - {0}100B'.format(currency_sign)\n",
    "Large_Cap = '{0}15B - {0}25B'.format(currency_sign)\n",
    "Mid_Cap = '{0}2B - {0}15B'.format(currency_sign)\n",
    "Small_Cap = '< {0}2B'.format(currency_sign)"
   ]
  },
  {
   "cell_type": "code",
   "execution_count": 47,
   "metadata": {},
   "outputs": [],
   "source": [
    "# Replace each original mkt cap bucket to equivalent name w/ the curr sign\n",
    "\n",
    "mcap['Label'] = mcap['Label'].replace('Over 100B', Mega_Cap)\n",
    "mcap['Label'] = mcap['Label'].replace('25B - 100B', Big_Large_Cap)\n",
    "mcap['Label'] = mcap['Label'].replace('15B - 25B', Large_Cap)\n",
    "mcap['Label'] = mcap['Label'].replace('2B - 15B', Mid_Cap)\n",
    "mcap['Label'] = mcap['Label'].replace('Under 2B', Small_Cap)"
   ]
  },
  {
   "cell_type": "code",
   "execution_count": 48,
   "metadata": {},
   "outputs": [
    {
     "output_type": "execute_result",
     "data": {
      "text/plain": [
       "    AsOfDate StrategyCode Currency  Range         Label  SimWeight  \\\n",
       "0  3/31/2021        MSMUA      USD      1       > $100B   0.387585   \n",
       "1  3/31/2021        MSMUA      USD      2  $25B - $100B   0.387983   \n",
       "2  3/31/2021        MSMUA      USD      3   $15B - $25B   0.163761   \n",
       "3  3/31/2021        MSMUA      USD      4    $2B - $15B   0.060672   \n",
       "\n",
       "   IndexWeight  \n",
       "0     0.370894  \n",
       "1     0.454373  \n",
       "2     0.104664  \n",
       "3     0.070069  "
      ],
      "text/html": "<div>\n<style scoped>\n    .dataframe tbody tr th:only-of-type {\n        vertical-align: middle;\n    }\n\n    .dataframe tbody tr th {\n        vertical-align: top;\n    }\n\n    .dataframe thead th {\n        text-align: right;\n    }\n</style>\n<table border=\"1\" class=\"dataframe\">\n  <thead>\n    <tr style=\"text-align: right;\">\n      <th></th>\n      <th>AsOfDate</th>\n      <th>StrategyCode</th>\n      <th>Currency</th>\n      <th>Range</th>\n      <th>Label</th>\n      <th>SimWeight</th>\n      <th>IndexWeight</th>\n    </tr>\n  </thead>\n  <tbody>\n    <tr>\n      <th>0</th>\n      <td>3/31/2021</td>\n      <td>MSMUA</td>\n      <td>USD</td>\n      <td>1</td>\n      <td>&gt; $100B</td>\n      <td>0.387585</td>\n      <td>0.370894</td>\n    </tr>\n    <tr>\n      <th>1</th>\n      <td>3/31/2021</td>\n      <td>MSMUA</td>\n      <td>USD</td>\n      <td>2</td>\n      <td>$25B - $100B</td>\n      <td>0.387983</td>\n      <td>0.454373</td>\n    </tr>\n    <tr>\n      <th>2</th>\n      <td>3/31/2021</td>\n      <td>MSMUA</td>\n      <td>USD</td>\n      <td>3</td>\n      <td>$15B - $25B</td>\n      <td>0.163761</td>\n      <td>0.104664</td>\n    </tr>\n    <tr>\n      <th>3</th>\n      <td>3/31/2021</td>\n      <td>MSMUA</td>\n      <td>USD</td>\n      <td>4</td>\n      <td>$2B - $15B</td>\n      <td>0.060672</td>\n      <td>0.070069</td>\n    </tr>\n  </tbody>\n</table>\n</div>"
     },
     "metadata": {},
     "execution_count": 48
    }
   ],
   "source": [
    "# Preview final mkt cap df\n",
    "mcap"
   ]
  },
  {
   "cell_type": "markdown",
   "metadata": {},
   "source": [
    "### Step 3:  Wrangle and transform `Characteristics` data from FactSet "
   ]
  },
  {
   "cell_type": "code",
   "execution_count": 49,
   "metadata": {},
   "outputs": [
    {
     "output_type": "execute_result",
     "data": {
      "text/plain": [
       "    AsOfDate StrategyCode Currency                       Char  PortValue  \\\n",
       "0  3/31/2021        MSMUA      USD            # of Securities  79.000000   \n",
       "1  3/31/2021        MSMUA      USD         P/E (1Yr Trailing)  30.790772   \n",
       "2  3/31/2021        MSMUA      USD             Dividend Yield   1.868637   \n",
       "3  3/31/2021        MSMUA      USD  EPS Growth (5Yr Trailing)  12.171331   \n",
       "4  3/31/2021        MSMUA      USD                        P/B   6.591903   \n",
       "\n",
       "     IndValue  \n",
       "0  185.000000  \n",
       "1   31.490815  \n",
       "2    2.032096  \n",
       "3   11.923764  \n",
       "4    6.474775  "
      ],
      "text/html": "<div>\n<style scoped>\n    .dataframe tbody tr th:only-of-type {\n        vertical-align: middle;\n    }\n\n    .dataframe tbody tr th {\n        vertical-align: top;\n    }\n\n    .dataframe thead th {\n        text-align: right;\n    }\n</style>\n<table border=\"1\" class=\"dataframe\">\n  <thead>\n    <tr style=\"text-align: right;\">\n      <th></th>\n      <th>AsOfDate</th>\n      <th>StrategyCode</th>\n      <th>Currency</th>\n      <th>Char</th>\n      <th>PortValue</th>\n      <th>IndValue</th>\n    </tr>\n  </thead>\n  <tbody>\n    <tr>\n      <th>0</th>\n      <td>3/31/2021</td>\n      <td>MSMUA</td>\n      <td>USD</td>\n      <td># of Securities</td>\n      <td>79.000000</td>\n      <td>185.000000</td>\n    </tr>\n    <tr>\n      <th>1</th>\n      <td>3/31/2021</td>\n      <td>MSMUA</td>\n      <td>USD</td>\n      <td>P/E (1Yr Trailing)</td>\n      <td>30.790772</td>\n      <td>31.490815</td>\n    </tr>\n    <tr>\n      <th>2</th>\n      <td>3/31/2021</td>\n      <td>MSMUA</td>\n      <td>USD</td>\n      <td>Dividend Yield</td>\n      <td>1.868637</td>\n      <td>2.032096</td>\n    </tr>\n    <tr>\n      <th>3</th>\n      <td>3/31/2021</td>\n      <td>MSMUA</td>\n      <td>USD</td>\n      <td>EPS Growth (5Yr Trailing)</td>\n      <td>12.171331</td>\n      <td>11.923764</td>\n    </tr>\n    <tr>\n      <th>4</th>\n      <td>3/31/2021</td>\n      <td>MSMUA</td>\n      <td>USD</td>\n      <td>P/B</td>\n      <td>6.591903</td>\n      <td>6.474775</td>\n    </tr>\n  </tbody>\n</table>\n</div>"
     },
     "metadata": {},
     "execution_count": 49
    }
   ],
   "source": [
    "# Import chars tab and create df\n",
    "chars = pd.read_excel('input_template.xlsx', sheet_name = 'CHARACTERISTICS', skiprows= 8, skipfooter =2, header = None, names=['Char', 'PortValue', 'IndValue'])\n",
    "\n",
    "# Insert add'l columns for Seismic\n",
    "chars.insert(0, 'AsOfDate', rpt_date)\n",
    "chars.insert(1, 'StrategyCode', rpt_code)\n",
    "chars.insert(2, 'Currency', rpt_curr)\n",
    "\n",
    "# Preview\n",
    "chars.head()\n",
    "\n",
    "# Use 'filepath' below if want to make sharable with IB and MM, can use PA directory for input and output.\n",
    "#filepath 'M:/Characteristics/Flat File/Template/Flat_File_Template.xlsx'"
   ]
  },
  {
   "cell_type": "code",
   "execution_count": 50,
   "metadata": {},
   "outputs": [
    {
     "output_type": "execute_result",
     "data": {
      "text/plain": [
       "    AsOfDate StrategyCode Currency                           Char  \\\n",
       "0  3/31/2021        MSMUA      USD           Number of Securities   \n",
       "1  3/31/2021        MSMUA      USD     Price/Earnings Ratio (LTM)   \n",
       "2  3/31/2021        MSMUA      USD       Dividend Yield (Current)   \n",
       "3  3/31/2021        MSMUA      USD  EPS Growth (5 Yr. Historical)   \n",
       "4  3/31/2021        MSMUA      USD               Price/Book Ratio   \n",
       "5  3/31/2021        MSMUA      USD    Weighted Average Market Cap   \n",
       "6  3/31/2021        MSMUA      USD     Weighted Median Market Cap   \n",
       "\n",
       "       PortValue       IndValue  \n",
       "0      79.000000     185.000000  \n",
       "1      30.790772      31.490815  \n",
       "2       1.868637       2.032096  \n",
       "3      12.171331      11.923764  \n",
       "4       6.591903       6.474775  \n",
       "5  101484.302640  146121.518055  \n",
       "6   62264.554688   61968.160156  "
      ],
      "text/html": "<div>\n<style scoped>\n    .dataframe tbody tr th:only-of-type {\n        vertical-align: middle;\n    }\n\n    .dataframe tbody tr th {\n        vertical-align: top;\n    }\n\n    .dataframe thead th {\n        text-align: right;\n    }\n</style>\n<table border=\"1\" class=\"dataframe\">\n  <thead>\n    <tr style=\"text-align: right;\">\n      <th></th>\n      <th>AsOfDate</th>\n      <th>StrategyCode</th>\n      <th>Currency</th>\n      <th>Char</th>\n      <th>PortValue</th>\n      <th>IndValue</th>\n    </tr>\n  </thead>\n  <tbody>\n    <tr>\n      <th>0</th>\n      <td>3/31/2021</td>\n      <td>MSMUA</td>\n      <td>USD</td>\n      <td>Number of Securities</td>\n      <td>79.000000</td>\n      <td>185.000000</td>\n    </tr>\n    <tr>\n      <th>1</th>\n      <td>3/31/2021</td>\n      <td>MSMUA</td>\n      <td>USD</td>\n      <td>Price/Earnings Ratio (LTM)</td>\n      <td>30.790772</td>\n      <td>31.490815</td>\n    </tr>\n    <tr>\n      <th>2</th>\n      <td>3/31/2021</td>\n      <td>MSMUA</td>\n      <td>USD</td>\n      <td>Dividend Yield (Current)</td>\n      <td>1.868637</td>\n      <td>2.032096</td>\n    </tr>\n    <tr>\n      <th>3</th>\n      <td>3/31/2021</td>\n      <td>MSMUA</td>\n      <td>USD</td>\n      <td>EPS Growth (5 Yr. Historical)</td>\n      <td>12.171331</td>\n      <td>11.923764</td>\n    </tr>\n    <tr>\n      <th>4</th>\n      <td>3/31/2021</td>\n      <td>MSMUA</td>\n      <td>USD</td>\n      <td>Price/Book Ratio</td>\n      <td>6.591903</td>\n      <td>6.474775</td>\n    </tr>\n    <tr>\n      <th>5</th>\n      <td>3/31/2021</td>\n      <td>MSMUA</td>\n      <td>USD</td>\n      <td>Weighted Average Market Cap</td>\n      <td>101484.302640</td>\n      <td>146121.518055</td>\n    </tr>\n    <tr>\n      <th>6</th>\n      <td>3/31/2021</td>\n      <td>MSMUA</td>\n      <td>USD</td>\n      <td>Weighted Median Market Cap</td>\n      <td>62264.554688</td>\n      <td>61968.160156</td>\n    </tr>\n  </tbody>\n</table>\n</div>"
     },
     "metadata": {},
     "execution_count": 50
    }
   ],
   "source": [
    "# Rename chars derived from FDS to Seismic desired names\n",
    "\n",
    "chars['Char'] = chars['Char'].replace('# of Securities', 'Number of Securities')\n",
    "chars['Char'] = chars['Char'].replace('P/E (1Yr Trailing)', 'Price/Earnings Ratio (LTM)')\n",
    "chars['Char'] = chars['Char'].replace('Dividend Yield', 'Dividend Yield (Current)')\n",
    "chars['Char'] = chars['Char'].replace('EPS Growth (5Yr Trailing)', 'EPS Growth (5 Yr. Historical)')\n",
    "chars['Char'] = chars['Char'].replace('P/B', 'Price/Book Ratio')\n",
    "chars['Char'] = chars['Char'].replace('Market Cap - Weighted Median', 'Weighted Median Market Cap')\n",
    "chars['Char'] = chars['Char'].replace('Market Cap - Weighted Average', 'Weighted Average Market Cap')\n",
    "chars"
   ]
  },
  {
   "cell_type": "code",
   "execution_count": 51,
   "metadata": {},
   "outputs": [
    {
     "output_type": "execute_result",
     "data": {
      "text/plain": [
       "    AsOfDate StrategyCode Currency                           Char PortValue  \\\n",
       "0  3/31/2021        MSMUA      USD           Number of Securities      79.0   \n",
       "1  3/31/2021        MSMUA      USD     Price/Earnings Ratio (LTM)     30.79   \n",
       "2  3/31/2021        MSMUA      USD       Dividend Yield (Current)     1.87%   \n",
       "3  3/31/2021        MSMUA      USD  EPS Growth (5 Yr. Historical)    12.17%   \n",
       "4  3/31/2021        MSMUA      USD               Price/Book Ratio      6.59   \n",
       "5  3/31/2021        MSMUA      USD    Weighted Average Market Cap  $101.5 B   \n",
       "6  3/31/2021        MSMUA      USD     Weighted Median Market Cap   $62.3 B   \n",
       "\n",
       "   IndValue  \n",
       "0     185.0  \n",
       "1     31.49  \n",
       "2     2.03%  \n",
       "3    11.92%  \n",
       "4      6.47  \n",
       "5  $146.1 B  \n",
       "6   $62.0 B  "
      ],
      "text/html": "<div>\n<style scoped>\n    .dataframe tbody tr th:only-of-type {\n        vertical-align: middle;\n    }\n\n    .dataframe tbody tr th {\n        vertical-align: top;\n    }\n\n    .dataframe thead th {\n        text-align: right;\n    }\n</style>\n<table border=\"1\" class=\"dataframe\">\n  <thead>\n    <tr style=\"text-align: right;\">\n      <th></th>\n      <th>AsOfDate</th>\n      <th>StrategyCode</th>\n      <th>Currency</th>\n      <th>Char</th>\n      <th>PortValue</th>\n      <th>IndValue</th>\n    </tr>\n  </thead>\n  <tbody>\n    <tr>\n      <th>0</th>\n      <td>3/31/2021</td>\n      <td>MSMUA</td>\n      <td>USD</td>\n      <td>Number of Securities</td>\n      <td>79.0</td>\n      <td>185.0</td>\n    </tr>\n    <tr>\n      <th>1</th>\n      <td>3/31/2021</td>\n      <td>MSMUA</td>\n      <td>USD</td>\n      <td>Price/Earnings Ratio (LTM)</td>\n      <td>30.79</td>\n      <td>31.49</td>\n    </tr>\n    <tr>\n      <th>2</th>\n      <td>3/31/2021</td>\n      <td>MSMUA</td>\n      <td>USD</td>\n      <td>Dividend Yield (Current)</td>\n      <td>1.87%</td>\n      <td>2.03%</td>\n    </tr>\n    <tr>\n      <th>3</th>\n      <td>3/31/2021</td>\n      <td>MSMUA</td>\n      <td>USD</td>\n      <td>EPS Growth (5 Yr. Historical)</td>\n      <td>12.17%</td>\n      <td>11.92%</td>\n    </tr>\n    <tr>\n      <th>4</th>\n      <td>3/31/2021</td>\n      <td>MSMUA</td>\n      <td>USD</td>\n      <td>Price/Book Ratio</td>\n      <td>6.59</td>\n      <td>6.47</td>\n    </tr>\n    <tr>\n      <th>5</th>\n      <td>3/31/2021</td>\n      <td>MSMUA</td>\n      <td>USD</td>\n      <td>Weighted Average Market Cap</td>\n      <td>$101.5 B</td>\n      <td>$146.1 B</td>\n    </tr>\n    <tr>\n      <th>6</th>\n      <td>3/31/2021</td>\n      <td>MSMUA</td>\n      <td>USD</td>\n      <td>Weighted Median Market Cap</td>\n      <td>$62.3 B</td>\n      <td>$62.0 B</td>\n    </tr>\n  </tbody>\n</table>\n</div>"
     },
     "metadata": {},
     "execution_count": 51
    }
   ],
   "source": [
    "# Transform numerical output to appropriate type\n",
    "\n",
    "item_1 = chars.loc[5,'PortValue']\n",
    "item_2 = chars.loc[6,'PortValue']\n",
    "item_3 = chars.loc[5, 'IndValue']\n",
    "item_4 = chars.loc[6, 'IndValue']\n",
    "item_5 = chars.loc[2,'PortValue']\n",
    "item_6 = chars.loc[2, 'IndValue']\n",
    "item_7 = chars.loc[3, 'PortValue']\n",
    "item_8 = chars.loc[3, 'IndValue']\n",
    "item_9 = chars.loc[1, 'PortValue']\n",
    "item_10 = chars.loc[1, 'IndValue']\n",
    "item_11 = chars.loc[4, 'PortValue']\n",
    "item_12 = chars.loc[4, 'IndValue']\n",
    "\n",
    "def MCap(item):\n",
    "    item /= 1000\n",
    "    item = item.round(1)\n",
    "    item = str(item)\n",
    "    item = currency_sign + item + ' B'\n",
    "    return item\n",
    "\n",
    "def PercString(item):\n",
    "    item = \"{:0.2f}%\".format(item)\n",
    "    return item\n",
    "\n",
    "def RoundString(item):\n",
    "    item = \"{:0.2f}\".format(item)\n",
    "    return item\n",
    "\n",
    "item_1 = MCap(item_1)\n",
    "item_2 = MCap(item_2)\n",
    "item_3 = MCap(item_3)\n",
    "item_4 = MCap(item_4)\n",
    "item_5 = PercString(item_5)\n",
    "item_6 = PercString(item_6)\n",
    "item_7 = PercString(item_7)\n",
    "item_8 = PercString(item_8)\n",
    "item_9 = RoundString(item_9)\n",
    "item_10 = RoundString(item_10)\n",
    "item_11 = RoundString(item_11)\n",
    "item_12 = RoundString(item_12)\n",
    "\n",
    "\n",
    "chars.loc[5,'PortValue'] = item_1\n",
    "chars.loc[6,'PortValue'] = item_2 \n",
    "chars.loc[5,'IndValue'] = item_3 \n",
    "chars.loc[6, 'IndValue'] = item_4\n",
    "chars.loc[2,'PortValue'] = item_5\n",
    "chars.loc[2, 'IndValue'] = item_6\n",
    "chars.loc[3, 'PortValue'] = item_7\n",
    "chars.loc[3, 'IndValue'] = item_8\n",
    "chars.loc[1, 'PortValue'] = item_9\n",
    "chars.loc[1, 'IndValue'] = item_10\n",
    "chars.loc[4, 'PortValue'] = item_11\n",
    "chars.loc[4, 'IndValue'] = item_12\n",
    "\n",
    "chars"
   ]
  },
  {
   "cell_type": "markdown",
   "metadata": {},
   "source": [
    "### Step 4:  Wrangle and transform `Top Bottom 10` data from FactSet"
   ]
  },
  {
   "cell_type": "code",
   "execution_count": 55,
   "metadata": {},
   "outputs": [
    {
     "output_type": "execute_result",
     "data": {
      "text/plain": [
       "    AsOfDate StrategyCode                                      Holding  \\\n",
       "0  3/31/2021        MSMUA                        Accenture Plc Class A   \n",
       "1  3/31/2021        MSMUA                      Progressive Corporation   \n",
       "2  3/31/2021        MSMUA                 Bristol-Myers Squibb Company   \n",
       "3  3/31/2021        MSMUA              Crown Castle International Corp   \n",
       "4  3/31/2021        MSMUA  International Business Machines Corporation   \n",
       "5  3/31/2021        MSMUA                            Johnson & Johnson   \n",
       "6  3/31/2021        MSMUA            McCormick & Company, Incorporated   \n",
       "7  3/31/2021        MSMUA                           Target Corporation   \n",
       "8  3/31/2021        MSMUA                         Citrix Systems, Inc.   \n",
       "9  3/31/2021        MSMUA                        Campbell Soup Company   \n",
       "\n",
       "     Weight  WeightSum  \n",
       "0  0.058107   0.343337  \n",
       "1  0.046811   0.343337  \n",
       "2  0.040567   0.343337  \n",
       "3  0.037480   0.343337  \n",
       "4  0.031456   0.343337  \n",
       "5  0.026894   0.343337  \n",
       "6  0.026474   0.343337  \n",
       "7  0.026103   0.343337  \n",
       "8  0.024796   0.343337  \n",
       "9  0.024648   0.343337  "
      ],
      "text/html": "<div>\n<style scoped>\n    .dataframe tbody tr th:only-of-type {\n        vertical-align: middle;\n    }\n\n    .dataframe tbody tr th {\n        vertical-align: top;\n    }\n\n    .dataframe thead th {\n        text-align: right;\n    }\n</style>\n<table border=\"1\" class=\"dataframe\">\n  <thead>\n    <tr style=\"text-align: right;\">\n      <th></th>\n      <th>AsOfDate</th>\n      <th>StrategyCode</th>\n      <th>Holding</th>\n      <th>Weight</th>\n      <th>WeightSum</th>\n    </tr>\n  </thead>\n  <tbody>\n    <tr>\n      <th>0</th>\n      <td>3/31/2021</td>\n      <td>MSMUA</td>\n      <td>Accenture Plc Class A</td>\n      <td>0.058107</td>\n      <td>0.343337</td>\n    </tr>\n    <tr>\n      <th>1</th>\n      <td>3/31/2021</td>\n      <td>MSMUA</td>\n      <td>Progressive Corporation</td>\n      <td>0.046811</td>\n      <td>0.343337</td>\n    </tr>\n    <tr>\n      <th>2</th>\n      <td>3/31/2021</td>\n      <td>MSMUA</td>\n      <td>Bristol-Myers Squibb Company</td>\n      <td>0.040567</td>\n      <td>0.343337</td>\n    </tr>\n    <tr>\n      <th>3</th>\n      <td>3/31/2021</td>\n      <td>MSMUA</td>\n      <td>Crown Castle International Corp</td>\n      <td>0.037480</td>\n      <td>0.343337</td>\n    </tr>\n    <tr>\n      <th>4</th>\n      <td>3/31/2021</td>\n      <td>MSMUA</td>\n      <td>International Business Machines Corporation</td>\n      <td>0.031456</td>\n      <td>0.343337</td>\n    </tr>\n    <tr>\n      <th>5</th>\n      <td>3/31/2021</td>\n      <td>MSMUA</td>\n      <td>Johnson &amp; Johnson</td>\n      <td>0.026894</td>\n      <td>0.343337</td>\n    </tr>\n    <tr>\n      <th>6</th>\n      <td>3/31/2021</td>\n      <td>MSMUA</td>\n      <td>McCormick &amp; Company, Incorporated</td>\n      <td>0.026474</td>\n      <td>0.343337</td>\n    </tr>\n    <tr>\n      <th>7</th>\n      <td>3/31/2021</td>\n      <td>MSMUA</td>\n      <td>Target Corporation</td>\n      <td>0.026103</td>\n      <td>0.343337</td>\n    </tr>\n    <tr>\n      <th>8</th>\n      <td>3/31/2021</td>\n      <td>MSMUA</td>\n      <td>Citrix Systems, Inc.</td>\n      <td>0.024796</td>\n      <td>0.343337</td>\n    </tr>\n    <tr>\n      <th>9</th>\n      <td>3/31/2021</td>\n      <td>MSMUA</td>\n      <td>Campbell Soup Company</td>\n      <td>0.024648</td>\n      <td>0.343337</td>\n    </tr>\n  </tbody>\n</table>\n</div>"
     },
     "metadata": {},
     "execution_count": 55
    }
   ],
   "source": [
    "# Import Top 10 Portfolio Holdings by Weight tab and create df\n",
    "\n",
    "tb = pd.read_excel('input_template.xlsx', sheet_name = 'TOP 10 WEIGHTS', header = None, skiprows = 8, skipfooter = 1, names=['Holding', 'Weight'])\n",
    "\n",
    "# Drop blank rows\n",
    "tb = tb.dropna(axis=0)\n",
    "\n",
    "# Delete Total Row\n",
    "tb = tb[tb['Holding'] != 'Total']\n",
    "\n",
    "# Sum up total of the top 10 holdings weights\n",
    "ten_wgt_sum = tb['Weight'].sum()\n",
    "\n",
    "# Insert add'l columns need for Seismic\n",
    "tb.insert(0, 'AsOfDate', rpt_date)\n",
    "tb.insert(1, 'StrategyCode', rpt_code)\n",
    "tb.insert(4, 'WeightSum', ten_wgt_sum)\n",
    "\n",
    "# Divide Weights by 100\n",
    "tb[['Weight','WeightSum']] = tb[['Weight', 'WeightSum']].div(100)\n",
    "\n",
    "tb\n",
    "\n",
    "# Use 'filepath' below if want to make sharable with IB and MM, can use PA directory for input and output.\n",
    "#filepath 'M:/Characteristics/Flat File/Template/Flat_File_Template.xlsx'"
   ]
  },
  {
   "cell_type": "markdown",
   "metadata": {},
   "source": [
    "### Step 5:  Output to on single excel file"
   ]
  },
  {
   "cell_type": "code",
   "execution_count": 56,
   "metadata": {},
   "outputs": [],
   "source": [
    "# Create a Pandas Excel writer using XlsxWriter as the engine.\n",
    "writer = pd.ExcelWriter('output_file.xlsx', engine = 'xlsxwriter')\n",
    "\n",
    "# Convert the dataframe to an XlsxWriter Excel object.\n",
    "df.to_excel(writer, sheet_name='Sector', index=False)\n",
    "mcap.to_excel(writer, sheet_name='MCap', index=False)\n",
    "chars.to_excel(writer, sheet_name='Chars', index = False)\n",
    "tb.to_excel(writer, sheet_name='TB', index=False)\n",
    "\n",
    "# Get the xlsxwriter objects from the dataframe writer object.\n",
    "workbook = writer.book\n",
    "worksheet_1 = writer.sheets['Sector']\n",
    "worksheet_2 = writer.sheets['MCap']\n",
    "worksheet_3 = writer.sheets['Chars']\n",
    "worksheet_4 = writer.sheets['TB']\n",
    "\n",
    "# Add some cell formats.\n",
    "format1 = workbook.add_format({'num_format': '0.00%'})\n",
    "format2 = workbook.add_format()\n",
    "\n",
    "worksheet_1.set_column('D:E', 18 , format1)\n",
    "worksheet_1.set_column('A:C', 24, format2)\n",
    "worksheet_2.set_column('F:G', 18 , format1)\n",
    "worksheet_2.set_column('A:E', 18, format2)\n",
    "worksheet_3.set_column('D:D', 30, format2)\n",
    "worksheet_3.set_column('A:C',18, format2)\n",
    "worksheet_3.set_column('E:F',18, format2)\n",
    "worksheet_4.set_column('A:C', 18, format2)\n",
    "worksheet_4.set_column('D:E', 18, format1)\n",
    "\n",
    "writer.save()\n",
    "\n",
    "# Use 'filepath' below if want to make sharable with IB and MM, can use PA directory for input and output.\n",
    "#filepath 'M:\\Characteristics\\Flat File\\Output\\Flat_File_Chars_Weights.xlsx'"
   ]
  },
  {
   "cell_type": "code",
   "execution_count": null,
   "metadata": {},
   "outputs": [],
   "source": []
  }
 ],
 "metadata": {
  "kernelspec": {
   "name": "python3",
   "display_name": "Python 3.7.9 64-bit ('ea': conda)"
  },
  "language_info": {
   "codemirror_mode": {
    "name": "ipython",
    "version": 3
   },
   "file_extension": ".py",
   "mimetype": "text/x-python",
   "name": "python",
   "nbconvert_exporter": "python",
   "pygments_lexer": "ipython3",
   "version": "3.7.9"
  },
  "orig_nbformat": 3,
  "interpreter": {
   "hash": "b7c3e329df1df1cf4204baf98911465b6b96b75699972bf00a2017ceb229a8d4"
  }
 },
 "nbformat": 4,
 "nbformat_minor": 2
}